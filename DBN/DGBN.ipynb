{
 "cells": [
  {
   "cell_type": "code",
   "execution_count": 1,
   "id": "major-panel",
   "metadata": {},
   "outputs": [],
   "source": [
    "import rpy2.robjects as robj\n",
    "from rpy2.robjects import pandas2ri\n",
    "pandas2ri.activate()\n",
    "import numpy as np\n",
    "from sklearn.metrics import top_k_accuracy_score\n",
    "from sklearn.preprocessing import LabelEncoder, MultiLabelBinarizer\n",
    "import re\n",
    "import warnings\n",
    "import pandas as pd\n",
    "from pandas.errors import SettingWithCopyWarning\n",
    "warnings.simplefilter(action=\"ignore\", category=SettingWithCopyWarning)\n",
    "warnings.simplefilter(action=\"ignore\", category=FutureWarning)\n",
    "import matplotlib.pyplot as plt\n",
    "import seaborn as sns\n",
    "import datetime\n",
    "import plotly\n",
    "import pickle\n",
    "from plotly.subplots import make_subplots\n",
    "import plotly.graph_objects as go\n",
    "# The object that represents the R session\n",
    "r = robj.r\n"
   ]
  },
  {
   "cell_type": "code",
   "execution_count": 2,
   "id": "74d77f6a",
   "metadata": {},
   "outputs": [],
   "source": [
    "%run -i '../preprocessing.py'\n",
    "%run -i './dataframe_folder.py'"
   ]
  },
  {
   "cell_type": "markdown",
   "id": "c44ef958",
   "metadata": {},
   "source": [
    "# Anomaly validation IDF1"
   ]
  },
  {
   "cell_type": "code",
   "execution_count": 43,
   "id": "18e161fc",
   "metadata": {},
   "outputs": [],
   "source": [
    "include_idle = False\n",
    "n_cycles = 685\n",
    "k=10\n",
    "IDF = 1"
   ]
  },
  {
   "cell_type": "code",
   "execution_count": 44,
   "id": "69431051",
   "metadata": {},
   "outputs": [],
   "source": [
    "if IDF == 2:\n",
    "    df = pd.read_csv('./cycle_dataset2.csv')\n",
    "\n",
    "\n",
    "    with open('./cycle_datetimes2', 'rb') as cdts:\n",
    "        cycle_datetimes = pickle.load(cdts)\n",
    "\n",
    "    n_cycles = 1400\n"
   ]
  },
  {
   "cell_type": "code",
   "execution_count": 45,
   "id": "a2cfb446",
   "metadata": {},
   "outputs": [],
   "source": [
    "anomaly_df = pd.read_excel(f'../Notas Corretivas IDF{IDF}.xlsx', sheet_name='ENG')\n",
    "anomaly_df.iloc[:, 8] = pd.to_datetime(anomaly_df.iloc[:, 8], format='%Y-%m-%d')\n",
    "anomalies = anomaly_df.iloc[:, 8]\n",
    "related_sensors = anomaly_df.iloc[:, 11]"
   ]
  },
  {
   "cell_type": "code",
   "execution_count": 46,
   "id": "db9c6cec",
   "metadata": {},
   "outputs": [],
   "source": [
    "if IDF == 1:\n",
    "  start_day = '2022-01-21 00:00:00'\n",
    "  end_day = '2022-02-20 23:58:00'\n",
    "\n",
    "  start_day = pd.to_datetime(start_day, format='%Y-%m-%d %H:%M:%S')\n",
    "  end_day = pd.to_datetime(end_day, format='%Y-%m-%d %H:%M:%S')\n",
    "\n",
    "  dfCV1 = dfCV1[[x for x in dfCV1.columns if x not in deleted_features]]\n",
    "  normal_df = dfCV1[dfCV1.index.to_series().between(start_day, end_day)]\n",
    "else:\n",
    "  start_day = '2021-12-05 00:00:00'\n",
    "  end_day = '2022-02-05 23:58:00'\n",
    "\n",
    "  start_day = pd.to_datetime(start_day, format='%Y-%m-%d %H:%M:%S')\n",
    "  end_day = pd.to_datetime(end_day, format='%Y-%m-%d %H:%M:%S')\n",
    "\n",
    "  dfCV2 = dfCV2[[x for x in dfCV2.columns if x not in deleted_features]]\n",
    "  normal_df = dfCV2[dfCV2.index.to_series().between(start_day, end_day)]\n",
    "\n",
    "\n",
    "normal_df.columns =[translation_dict[x] for x in normal_df.columns]\n",
    "with (robj.default_converter + pandas2ri.converter).context():\n",
    "  robj.globalenv['dt_val_normal'] = robj.conversion.get_conversion().py2rpy(normal_df.reset_index(drop=True))"
   ]
  },
  {
   "cell_type": "code",
   "execution_count": 7,
   "id": "6d9b578c",
   "metadata": {},
   "outputs": [],
   "source": [
    "def load_df_train(include_idle):\n",
    "    if not include_idle:\n",
    "        df_train = get_train_df(n_cycles)\n",
    "\n",
    "    else:\n",
    "        df_train = normal_df\n",
    "\n",
    "    with (robj.default_converter + pandas2ri.converter).context():\n",
    "        robj.globalenv['dt_train'] = robj.conversion.get_conversion().py2rpy(df_train)\n",
    "\n",
    "    return df_train"
   ]
  },
  {
   "cell_type": "code",
   "execution_count": 29,
   "id": "90aa413f",
   "metadata": {},
   "outputs": [],
   "source": [
    "def fit_dbn(dbn_size, alpha=None, train=True):\n",
    "    if train:\n",
    "        if alpha is None:\n",
    "            r(f'load(file=\"./nets/CV1/size{dbn_size}_dmmhc_mmpc_hc_mi-g_bic-g.RDS\")')\n",
    "        else:\n",
    "            r(f'load(file=\"./nets/CV{IDF}/size{dbn_size}_dmmhc_mmpc_hc_mi-g_bic-g_5e-{alpha}.RDS\")')\n",
    "        r(f'''\n",
    "        library(dbnR)\n",
    "        size <- {dbn_size}\n",
    "        f_dt_train <- fold_dt(dt_train, size)\n",
    "        dbn <- fit_dbn_params(net, f_dt_train, method = \"mle-g\")\n",
    "        ''')\n",
    "    else:\n",
    "        r(f'load(file=\"./nets/CV{IDF}/size{dbn_size}_dmmhc_mmpc_hc_mi-g_bic-g_5e-{alpha}_fit.RDS\")')\n",
    "    r(f'''\n",
    "        f_dt_val_normal <- fold_dt(dt_val_normal, {dbn_size})\n",
    "        lglk_normal <- logLik(dbn, f_dt_val_normal, by.sample=TRUE, na.rm=TRUE)\n",
    "        ''')\n",
    "    normal_lglk = np.array(r['lglk_normal'])\n",
    "\n",
    "    r(f'''\n",
    "    decomp_loglks <- c()\n",
    "    for (node in names(f_dt_val_normal)) {'{'}\n",
    "        decomp_loglks <- cbind(decomp_loglks, logLik(dbn, f_dt_val_normal, by.sample=TRUE, na.rm=TRUE, by.node=TRUE, nodes=node))\n",
    "    {'}'}\n",
    "    ''')\n",
    "\n",
    "    with (robj.default_converter + pandas2ri.converter).context():\n",
    "        decomp_loglks = np.array(robj.conversion.get_conversion().rpy2py(robj.globalenv['decomp_loglks']))\n",
    "    decomp_loglks = pd.DataFrame(decomp_loglks, columns=r('names(f_dt_val_normal)'))\n",
    " \n",
    "\n",
    "    decomp_loglks.columns = [re.split( r'_t_(\\d+)', x)[0] for x in decomp_loglks.columns]\n",
    "\n",
    "    normal_decomp_loglks = decomp_loglks.groupby(decomp_loglks.columns, axis=1).sum()\n",
    "    return normal_lglk, normal_decomp_loglks"
   ]
  },
  {
   "cell_type": "code",
   "execution_count": 9,
   "id": "521aa842",
   "metadata": {},
   "outputs": [],
   "source": [
    "def eval_anomaly(start_day):\n",
    "    end_day = start_day + datetime.timedelta(days=1)\n",
    "    if IDF == 1:\n",
    "        slice_df = dfCV1[dfCV1.index.to_series().between(start_day, end_day)]\n",
    "    else:\n",
    "        slice_df = dfCV2[dfCV2.index.to_series().between(start_day, end_day)]\n",
    "    \n",
    "    slice_df.columns =[translation_dict[x] for x in slice_df.columns]\n",
    "\n",
    "    \n",
    "    with (robj.default_converter + pandas2ri.converter).context():\n",
    "        robj.globalenv['dt_val'] = robj.conversion.get_conversion().py2rpy(slice_df.reset_index(drop=True))\n",
    "    \n",
    "    r(f'''\n",
    "    f_dt_val <- fold_dt(dt_val, {dbn_size})\n",
    "    lglk <- logLik(dbn, f_dt_val, by.sample=TRUE, na.rm=TRUE)\n",
    "    ''')\n",
    "        \n",
    "    logl = np.array(r['lglk'])\n",
    "\n",
    "    return logl, slice_df"
   ]
  },
  {
   "cell_type": "code",
   "execution_count": 10,
   "id": "23c6c4fa",
   "metadata": {},
   "outputs": [],
   "source": [
    "def get_top_k_features(k, anomaly_fires_idx):\n",
    "    r(f'''\n",
    "    decomp_loglks <- c()\n",
    "    for (node in names(f_dt_val)) {'{'}\n",
    "        decomp_loglks <- cbind(decomp_loglks, logLik(dbn, f_dt_val, by.sample=TRUE, na.rm=TRUE, by.node=TRUE, nodes=node))\n",
    "    {'}'}\n",
    "    ''')\n",
    "\n",
    "    with (robj.default_converter + pandas2ri.converter).context():\n",
    "        decomp_loglks = np.array(robj.conversion.get_conversion().rpy2py(robj.globalenv['decomp_loglks']))\n",
    "    decomp_sloglks = pd.DataFrame(decomp_loglks, columns=r('names(f_dt_val)'))\n",
    "    decomp_sloglks = decomp_sloglks.iloc[anomaly_fires_idx, :]\n",
    "    decomp_sloglks.columns = [re.split( r'_t_(\\d+)', x)[0] for x in decomp_sloglks.columns]\n",
    "\n",
    "    decomp_sloglks = decomp_sloglks.groupby(decomp_sloglks.columns, axis=1).sum()\n",
    "    decomp_sloglks = decomp_sloglks.sum(axis=0)\n",
    "\n",
    "    sorted_df = pd.DataFrame(decomp_sloglks.sort_values(ascending=True)[:k])\n",
    "\n",
    "    return sorted_df"
   ]
  },
  {
   "cell_type": "markdown",
   "id": "50f2b54e",
   "metadata": {},
   "source": [
    "### Markov order selection (IDF1 only)"
   ]
  },
  {
   "cell_type": "code",
   "execution_count": null,
   "id": "2693871a",
   "metadata": {},
   "outputs": [],
   "source": [
    "anomaly_val = pd.DataFrame(columns=['anomaly_idx', 'dbn_size', 'percentile', 'lglk_threshold', 'fire', 'anom_%', 'hits'])\n",
    "\n",
    "percentile = 3\n",
    "\n",
    "encoder_cat = LabelEncoder()\n",
    "encoder_mlb = MultiLabelBinarizer()\n",
    "labels = encoder_cat.fit_transform(sorted(normal_df.columns.tolist()))\n",
    "encoder_mlb.fit([sorted(normal_df.columns.tolist())])\n",
    "hits_at_k = 0\n",
    "df_train = load_df_train(include_idle)\n",
    "for dbn_size in [2,3,4,5,6,7,8,9,10]:\n",
    "    print(dbn_size)\n",
    "    normal_lglk, normal_decomp_loglks = fit_dbn(dbn_size)\n",
    "    \n",
    "    aux = list()\n",
    "    for anomaly_idx, start_day in enumerate(anomalies):\n",
    "        if start_day > dfCV1.index.max():\n",
    "            continue\n",
    "        \n",
    "        logl, slice_df = eval_anomaly(start_day)\n",
    "        \n",
    "        lglk_threshold = np.percentile(normal_lglk, percentile)\n",
    "        logl_df = pd.DataFrame(logl.copy(), columns=['logl'])\n",
    "        logl_df.loc[logl_df['logl']>=lglk_threshold, 'logl'] = 0\n",
    "        logl_df.loc[logl_df['logl']<lglk_threshold, 'logl'] = 1\n",
    "\n",
    "        anomaly_perc = len(np.nonzero(logl_df['logl'].values)[0])*100/len(logl_df['logl'])\n",
    "\n",
    "        anomaly_fires_idx = np.nonzero(logl_df['logl'].values)[0]\n",
    "        if anomaly_perc != 0:\n",
    "            sorted_df = get_top_k_features(k, anomaly_fires_idx)\n",
    "\n",
    "            formated_sensors = related_sensors[anomaly_idx].split(',')\n",
    "            if formated_sensors[0] != '?':\n",
    "                y_true = encoder_cat.transform(formated_sensors)\n",
    "                hits_at_k = top_k_accuracy_score(y_true=y_true, y_score=encoder_mlb.transform([sorted_df.T.columns]).repeat(len(y_true), axis=0), labels=labels, k=k)\n",
    "            else:\n",
    "                continue\n",
    "\n",
    "            anomaly_val = pd.concat([anomaly_val, pd.DataFrame([[anomaly_idx, dbn_size, percentile, lglk_threshold, [1 if anomaly_perc != 0 else 0][0], anomaly_perc, [hits_at_k if anomaly_perc != 0 else 0][0]]], columns=['anomaly_idx', 'dbn_size', 'percentile', 'lglk_threshold', 'fire', 'anom_%', 'hits'])])\n",
    "            \n",
    "\n",
    "    "
   ]
  },
  {
   "cell_type": "code",
   "execution_count": null,
   "id": "5d28c97d",
   "metadata": {},
   "outputs": [
    {
     "data": {
      "text/html": [
       "<div>\n",
       "<style scoped>\n",
       "    .dataframe tbody tr th:only-of-type {\n",
       "        vertical-align: middle;\n",
       "    }\n",
       "\n",
       "    .dataframe tbody tr th {\n",
       "        vertical-align: top;\n",
       "    }\n",
       "\n",
       "    .dataframe thead th {\n",
       "        text-align: right;\n",
       "    }\n",
       "</style>\n",
       "<table border=\"1\" class=\"dataframe\">\n",
       "  <thead>\n",
       "    <tr style=\"text-align: right;\">\n",
       "      <th></th>\n",
       "      <th>anomaly_idx</th>\n",
       "      <th>dbn_size</th>\n",
       "      <th>percentile</th>\n",
       "      <th>alpha</th>\n",
       "      <th>lglk_threshold</th>\n",
       "      <th>fire</th>\n",
       "      <th>anom_%</th>\n",
       "      <th>hits</th>\n",
       "    </tr>\n",
       "  </thead>\n",
       "  <tbody>\n",
       "    <tr>\n",
       "      <th>0</th>\n",
       "      <td>0</td>\n",
       "      <td>6</td>\n",
       "      <td>3</td>\n",
       "      <td>2</td>\n",
       "      <td>-551.355968</td>\n",
       "      <td>1</td>\n",
       "      <td>4.888268</td>\n",
       "      <td>1.000000</td>\n",
       "    </tr>\n",
       "    <tr>\n",
       "      <th>1</th>\n",
       "      <td>1</td>\n",
       "      <td>6</td>\n",
       "      <td>3</td>\n",
       "      <td>2</td>\n",
       "      <td>-551.355968</td>\n",
       "      <td>1</td>\n",
       "      <td>1.256983</td>\n",
       "      <td>1.000000</td>\n",
       "    </tr>\n",
       "    <tr>\n",
       "      <th>2</th>\n",
       "      <td>2</td>\n",
       "      <td>6</td>\n",
       "      <td>3</td>\n",
       "      <td>2</td>\n",
       "      <td>-551.355968</td>\n",
       "      <td>1</td>\n",
       "      <td>34.497207</td>\n",
       "      <td>1.000000</td>\n",
       "    </tr>\n",
       "    <tr>\n",
       "      <th>3</th>\n",
       "      <td>3</td>\n",
       "      <td>6</td>\n",
       "      <td>3</td>\n",
       "      <td>2</td>\n",
       "      <td>-551.355968</td>\n",
       "      <td>1</td>\n",
       "      <td>48.324022</td>\n",
       "      <td>1.000000</td>\n",
       "    </tr>\n",
       "    <tr>\n",
       "      <th>4</th>\n",
       "      <td>4</td>\n",
       "      <td>6</td>\n",
       "      <td>3</td>\n",
       "      <td>2</td>\n",
       "      <td>-551.355968</td>\n",
       "      <td>1</td>\n",
       "      <td>61.871508</td>\n",
       "      <td>1.000000</td>\n",
       "    </tr>\n",
       "    <tr>\n",
       "      <th>...</th>\n",
       "      <td>...</td>\n",
       "      <td>...</td>\n",
       "      <td>...</td>\n",
       "      <td>...</td>\n",
       "      <td>...</td>\n",
       "      <td>...</td>\n",
       "      <td>...</td>\n",
       "      <td>...</td>\n",
       "    </tr>\n",
       "    <tr>\n",
       "      <th>135</th>\n",
       "      <td>28</td>\n",
       "      <td>6</td>\n",
       "      <td>3</td>\n",
       "      <td>6</td>\n",
       "      <td>-549.695925</td>\n",
       "      <td>1</td>\n",
       "      <td>100.000000</td>\n",
       "      <td>0.666667</td>\n",
       "    </tr>\n",
       "    <tr>\n",
       "      <th>136</th>\n",
       "      <td>29</td>\n",
       "      <td>6</td>\n",
       "      <td>3</td>\n",
       "      <td>6</td>\n",
       "      <td>-549.695925</td>\n",
       "      <td>1</td>\n",
       "      <td>100.000000</td>\n",
       "      <td>0.500000</td>\n",
       "    </tr>\n",
       "    <tr>\n",
       "      <th>137</th>\n",
       "      <td>30</td>\n",
       "      <td>6</td>\n",
       "      <td>3</td>\n",
       "      <td>6</td>\n",
       "      <td>-549.695925</td>\n",
       "      <td>1</td>\n",
       "      <td>100.000000</td>\n",
       "      <td>0.300000</td>\n",
       "    </tr>\n",
       "    <tr>\n",
       "      <th>138</th>\n",
       "      <td>31</td>\n",
       "      <td>6</td>\n",
       "      <td>3</td>\n",
       "      <td>6</td>\n",
       "      <td>-549.695925</td>\n",
       "      <td>1</td>\n",
       "      <td>100.000000</td>\n",
       "      <td>0.750000</td>\n",
       "    </tr>\n",
       "    <tr>\n",
       "      <th>139</th>\n",
       "      <td>33</td>\n",
       "      <td>6</td>\n",
       "      <td>3</td>\n",
       "      <td>6</td>\n",
       "      <td>-549.695925</td>\n",
       "      <td>1</td>\n",
       "      <td>100.000000</td>\n",
       "      <td>0.250000</td>\n",
       "    </tr>\n",
       "  </tbody>\n",
       "</table>\n",
       "<p>140 rows × 8 columns</p>\n",
       "</div>"
      ],
      "text/plain": [
       "    anomaly_idx dbn_size percentile alpha  lglk_threshold fire      anom_%  \\\n",
       "0             0        6          3     2     -551.355968    1    4.888268   \n",
       "1             1        6          3     2     -551.355968    1    1.256983   \n",
       "2             2        6          3     2     -551.355968    1   34.497207   \n",
       "3             3        6          3     2     -551.355968    1   48.324022   \n",
       "4             4        6          3     2     -551.355968    1   61.871508   \n",
       "..          ...      ...        ...   ...             ...  ...         ...   \n",
       "135          28        6          3     6     -549.695925    1  100.000000   \n",
       "136          29        6          3     6     -549.695925    1  100.000000   \n",
       "137          30        6          3     6     -549.695925    1  100.000000   \n",
       "138          31        6          3     6     -549.695925    1  100.000000   \n",
       "139          33        6          3     6     -549.695925    1  100.000000   \n",
       "\n",
       "         hits  \n",
       "0    1.000000  \n",
       "1    1.000000  \n",
       "2    1.000000  \n",
       "3    1.000000  \n",
       "4    1.000000  \n",
       "..        ...  \n",
       "135  0.666667  \n",
       "136  0.500000  \n",
       "137  0.300000  \n",
       "138  0.750000  \n",
       "139  0.250000  \n",
       "\n",
       "[140 rows x 8 columns]"
      ]
     },
     "metadata": {},
     "output_type": "display_data"
    }
   ],
   "source": [
    "anomaly_val.columns = anomaly_val.columns.get_level_values(0)\n",
    "anomaly_val = anomaly_val.reset_index(drop=True)\n",
    "anomaly_val"
   ]
  },
  {
   "cell_type": "code",
   "execution_count": null,
   "id": "c2edb8c0",
   "metadata": {},
   "outputs": [],
   "source": [
    "sns.set(color_codes=True, font_scale=0.8)\n",
    "plt.figure(figsize=(15,5))\n",
    "mean_acc = anomaly_val[(anomaly_val.anomaly_idx < 30)].groupby(by=['anomaly_idx', 'dbn_size'])['hits'].mean()*100\n",
    " \n",
    "mean_acc = mean_acc.reset_index()\n",
    "sns.barplot(mean_acc, y='hits', x='anomaly_idx', hue='dbn_size')\n",
    "plt.xticks(np.arange(0, len(mean_acc.anomaly_idx.unique())) , [anomalies[i].strftime('%Y-%m-%d') for i in mean_acc.anomaly_idx.unique()], rotation=45)\n",
    "plt.ylabel(f'Hits@{k} (%)')\n",
    "plt.xlabel('Anomaly date')\n",
    "L=plt.legend(loc='center left', bbox_to_anchor=(1, 0.5))\n",
    "L.set_title('Markov order')\n",
    "for i, text in enumerate(L.get_texts()):\n",
    "    text.set_text(f'{i+1}')\n",
    "plt.savefig('figures/hits_at_10_mkv_order.svg', format='svg', bbox_inches = 'tight')\n",
    "\n",
    "plt.show()"
   ]
  },
  {
   "cell_type": "markdown",
   "id": "e0240aa8",
   "metadata": {},
   "source": [
    "### Alpha level selection"
   ]
  },
  {
   "cell_type": "code",
   "execution_count": 11,
   "id": "b958000e",
   "metadata": {},
   "outputs": [
    {
     "name": "stderr",
     "output_type": "stream",
     "text": [
      "R[write to console]: Loading required package: bnlearn\n",
      "\n",
      "R[write to console]: \n",
      "Attaching package: ‘dbnR’\n",
      "\n",
      "\n",
      "R[write to console]: The following objects are masked from ‘package:bnlearn’:\n",
      "\n",
      "    degree, nodes, nodes<-, score\n",
      "\n",
      "\n",
      "R[write to console]: In addition: \n",
      "R[write to console]: There were 50 or more warnings (use warnings() to see the first 50)\n",
      "R[write to console]: \n",
      "\n",
      "R[write to console]: In addition: \n",
      "R[write to console]: There were 50 or more warnings (use warnings() to see the first 50)\n",
      "R[write to console]: \n",
      "\n",
      "R[write to console]: In addition: \n",
      "R[write to console]: There were 50 or more warnings (use warnings() to see the first 50)\n",
      "R[write to console]: \n",
      "\n",
      "R[write to console]: In addition: \n",
      "R[write to console]: There were 50 or more warnings (use warnings() to see the first 50)\n",
      "R[write to console]: \n",
      "\n",
      "R[write to console]: In addition: \n",
      "R[write to console]: There were 50 or more warnings (use warnings() to see the first 50)\n",
      "R[write to console]: \n",
      "\n",
      "R[write to console]: In addition: \n",
      "R[write to console]: There were 50 or more warnings (use warnings() to see the first 50)\n",
      "R[write to console]: \n",
      "\n",
      "R[write to console]: In addition: \n",
      "R[write to console]: There were 50 or more warnings (use warnings() to see the first 50)\n",
      "R[write to console]: \n",
      "\n",
      "R[write to console]: In addition: \n",
      "R[write to console]: There were 50 or more warnings (use warnings() to see the first 50)\n",
      "R[write to console]: \n",
      "\n",
      "R[write to console]: In addition: \n",
      "R[write to console]: There were 50 or more warnings (use warnings() to see the first 50)\n",
      "R[write to console]: \n",
      "\n",
      "R[write to console]: In addition: \n",
      "R[write to console]: There were 50 or more warnings (use warnings() to see the first 50)\n",
      "R[write to console]: \n",
      "\n",
      "R[write to console]: In addition: \n",
      "R[write to console]: There were 50 or more warnings (use warnings() to see the first 50)\n",
      "R[write to console]: \n",
      "\n",
      "R[write to console]: In addition: \n",
      "R[write to console]: There were 50 or more warnings (use warnings() to see the first 50)\n",
      "R[write to console]: \n",
      "\n",
      "R[write to console]: In addition: \n",
      "R[write to console]: There were 50 or more warnings (use warnings() to see the first 50)\n",
      "R[write to console]: \n",
      "\n",
      "R[write to console]: In addition: \n",
      "R[write to console]: There were 50 or more warnings (use warnings() to see the first 50)\n",
      "R[write to console]: \n",
      "\n",
      "R[write to console]: In addition: \n",
      "R[write to console]: There were 50 or more warnings (use warnings() to see the first 50)\n",
      "R[write to console]: \n",
      "\n",
      "R[write to console]: In addition: \n",
      "R[write to console]: There were 50 or more warnings (use warnings() to see the first 50)\n",
      "R[write to console]: \n",
      "\n",
      "R[write to console]: In addition: \n",
      "R[write to console]: There were 50 or more warnings (use warnings() to see the first 50)\n",
      "R[write to console]: \n",
      "\n",
      "R[write to console]: In addition: \n",
      "R[write to console]: There were 50 or more warnings (use warnings() to see the first 50)\n",
      "R[write to console]: \n",
      "\n",
      "R[write to console]: In addition: \n",
      "R[write to console]: There were 50 or more warnings (use warnings() to see the first 50)\n",
      "R[write to console]: \n",
      "\n",
      "R[write to console]: In addition: \n",
      "R[write to console]: There were 50 or more warnings (use warnings() to see the first 50)\n",
      "R[write to console]: \n",
      "\n",
      "R[write to console]: In addition: \n",
      "R[write to console]: There were 50 or more warnings (use warnings() to see the first 50)\n",
      "R[write to console]: \n",
      "\n",
      "R[write to console]: In addition: \n",
      "R[write to console]: There were 50 or more warnings (use warnings() to see the first 50)\n",
      "R[write to console]: \n",
      "\n",
      "R[write to console]: In addition: \n",
      "R[write to console]: There were 50 or more warnings (use warnings() to see the first 50)\n",
      "R[write to console]: \n",
      "\n",
      "R[write to console]: In addition: \n",
      "R[write to console]: There were 50 or more warnings (use warnings() to see the first 50)\n",
      "R[write to console]: \n",
      "\n",
      "R[write to console]: In addition: \n",
      "R[write to console]: There were 50 or more warnings (use warnings() to see the first 50)\n",
      "R[write to console]: \n",
      "\n",
      "R[write to console]: In addition: \n",
      "R[write to console]: There were 50 or more warnings (use warnings() to see the first 50)\n",
      "R[write to console]: \n",
      "\n",
      "R[write to console]: In addition: \n",
      "R[write to console]: There were 50 or more warnings (use warnings() to see the first 50)\n",
      "R[write to console]: \n",
      "\n",
      "R[write to console]: In addition: \n",
      "R[write to console]: There were 50 or more warnings (use warnings() to see the first 50)\n",
      "R[write to console]: \n",
      "\n",
      "R[write to console]: In addition: \n",
      "R[write to console]: There were 50 or more warnings (use warnings() to see the first 50)\n",
      "R[write to console]: \n",
      "\n",
      "R[write to console]: In addition: \n",
      "R[write to console]: There were 50 or more warnings (use warnings() to see the first 50)\n",
      "R[write to console]: \n",
      "\n",
      "R[write to console]: In addition: \n",
      "R[write to console]: There were 50 or more warnings (use warnings() to see the first 50)\n",
      "R[write to console]: \n",
      "\n",
      "R[write to console]: In addition: \n",
      "R[write to console]: There were 50 or more warnings (use warnings() to see the first 50)\n",
      "R[write to console]: \n",
      "\n",
      "R[write to console]: In addition: \n",
      "R[write to console]: There were 50 or more warnings (use warnings() to see the first 50)\n",
      "R[write to console]: \n",
      "\n",
      "R[write to console]: In addition: \n",
      "R[write to console]: There were 50 or more warnings (use warnings() to see the first 50)\n",
      "R[write to console]: \n",
      "\n",
      "R[write to console]: In addition: \n",
      "R[write to console]: There were 50 or more warnings (use warnings() to see the first 50)\n",
      "R[write to console]: \n",
      "\n",
      "R[write to console]: In addition: \n",
      "R[write to console]: There were 50 or more warnings (use warnings() to see the first 50)\n",
      "R[write to console]: \n",
      "\n",
      "R[write to console]: In addition: \n",
      "R[write to console]: There were 50 or more warnings (use warnings() to see the first 50)\n",
      "R[write to console]: \n",
      "\n",
      "R[write to console]: In addition: \n",
      "R[write to console]: There were 50 or more warnings (use warnings() to see the first 50)\n",
      "R[write to console]: \n",
      "\n",
      "R[write to console]: In addition: \n",
      "R[write to console]: There were 50 or more warnings (use warnings() to see the first 50)\n",
      "R[write to console]: \n",
      "\n",
      "R[write to console]: In addition: \n",
      "R[write to console]: There were 50 or more warnings (use warnings() to see the first 50)\n",
      "R[write to console]: \n",
      "\n",
      "R[write to console]: In addition: \n",
      "R[write to console]: There were 50 or more warnings (use warnings() to see the first 50)\n",
      "R[write to console]: \n",
      "\n",
      "R[write to console]: In addition: \n",
      "R[write to console]: There were 50 or more warnings (use warnings() to see the first 50)\n",
      "R[write to console]: \n",
      "\n",
      "R[write to console]: In addition: \n",
      "R[write to console]: There were 50 or more warnings (use warnings() to see the first 50)\n",
      "R[write to console]: \n",
      "\n",
      "R[write to console]: In addition: \n",
      "R[write to console]: There were 50 or more warnings (use warnings() to see the first 50)\n",
      "R[write to console]: \n",
      "\n",
      "R[write to console]: In addition: \n",
      "R[write to console]: There were 50 or more warnings (use warnings() to see the first 50)\n",
      "R[write to console]: \n",
      "\n",
      "R[write to console]: In addition: \n",
      "R[write to console]: There were 50 or more warnings (use warnings() to see the first 50)\n",
      "R[write to console]: \n",
      "\n",
      "R[write to console]: In addition: \n",
      "R[write to console]: There were 50 or more warnings (use warnings() to see the first 50)\n",
      "R[write to console]: \n",
      "\n",
      "R[write to console]: In addition: \n",
      "R[write to console]: There were 50 or more warnings (use warnings() to see the first 50)\n",
      "R[write to console]: \n",
      "\n",
      "R[write to console]: In addition: \n",
      "R[write to console]: There were 50 or more warnings (use warnings() to see the first 50)\n",
      "R[write to console]: \n",
      "\n",
      "R[write to console]: In addition: \n",
      "R[write to console]: There were 50 or more warnings (use warnings() to see the first 50)\n",
      "R[write to console]: \n",
      "\n",
      "R[write to console]: In addition: \n",
      "R[write to console]: There were 50 or more warnings (use warnings() to see the first 50)\n",
      "R[write to console]: \n",
      "\n",
      "R[write to console]: In addition: \n",
      "R[write to console]: There were 50 or more warnings (use warnings() to see the first 50)\n",
      "R[write to console]: \n",
      "\n",
      "R[write to console]: In addition: \n",
      "R[write to console]: There were 50 or more warnings (use warnings() to see the first 50)\n",
      "R[write to console]: \n",
      "\n",
      "R[write to console]: In addition: \n",
      "R[write to console]: There were 50 or more warnings (use warnings() to see the first 50)\n",
      "R[write to console]: \n",
      "\n",
      "R[write to console]: In addition: \n",
      "R[write to console]: There were 50 or more warnings (use warnings() to see the first 50)\n",
      "R[write to console]: \n",
      "\n",
      "R[write to console]: In addition: \n",
      "R[write to console]: There were 50 or more warnings (use warnings() to see the first 50)\n",
      "R[write to console]: \n",
      "\n",
      "R[write to console]: In addition: \n",
      "R[write to console]: There were 50 or more warnings (use warnings() to see the first 50)\n",
      "R[write to console]: \n",
      "\n",
      "R[write to console]: In addition: \n",
      "R[write to console]: There were 50 or more warnings (use warnings() to see the first 50)\n",
      "R[write to console]: \n",
      "\n",
      "R[write to console]: In addition: \n",
      "R[write to console]: There were 50 or more warnings (use warnings() to see the first 50)\n",
      "R[write to console]: \n",
      "\n",
      "R[write to console]: In addition: \n",
      "R[write to console]: There were 50 or more warnings (use warnings() to see the first 50)\n",
      "R[write to console]: \n",
      "\n",
      "R[write to console]: In addition: \n",
      "R[write to console]: There were 50 or more warnings (use warnings() to see the first 50)\n",
      "R[write to console]: \n",
      "\n",
      "R[write to console]: In addition: \n",
      "R[write to console]: There were 50 or more warnings (use warnings() to see the first 50)\n",
      "R[write to console]: \n",
      "\n",
      "R[write to console]: In addition: \n",
      "R[write to console]: There were 50 or more warnings (use warnings() to see the first 50)\n",
      "R[write to console]: \n",
      "\n",
      "R[write to console]: In addition: \n",
      "R[write to console]: There were 50 or more warnings (use warnings() to see the first 50)\n",
      "R[write to console]: \n",
      "\n",
      "R[write to console]: In addition: \n",
      "R[write to console]: There were 50 or more warnings (use warnings() to see the first 50)\n",
      "R[write to console]: \n",
      "\n",
      "R[write to console]: In addition: \n",
      "R[write to console]: There were 50 or more warnings (use warnings() to see the first 50)\n",
      "R[write to console]: \n",
      "\n",
      "R[write to console]: In addition: \n",
      "R[write to console]: There were 50 or more warnings (use warnings() to see the first 50)\n",
      "R[write to console]: \n",
      "\n",
      "R[write to console]: In addition: \n",
      "R[write to console]: There were 50 or more warnings (use warnings() to see the first 50)\n",
      "R[write to console]: \n",
      "\n",
      "R[write to console]: In addition: \n",
      "R[write to console]: There were 50 or more warnings (use warnings() to see the first 50)\n",
      "R[write to console]: \n",
      "\n",
      "R[write to console]: In addition: \n",
      "R[write to console]: There were 50 or more warnings (use warnings() to see the first 50)\n",
      "R[write to console]: \n",
      "\n",
      "R[write to console]: In addition: \n",
      "R[write to console]: There were 50 or more warnings (use warnings() to see the first 50)\n",
      "R[write to console]: \n",
      "\n",
      "R[write to console]: In addition: \n",
      "R[write to console]: There were 50 or more warnings (use warnings() to see the first 50)\n",
      "R[write to console]: \n",
      "\n",
      "R[write to console]: In addition: \n",
      "R[write to console]: There were 50 or more warnings (use warnings() to see the first 50)\n",
      "R[write to console]: \n",
      "\n",
      "R[write to console]: In addition: \n",
      "R[write to console]: There were 50 or more warnings (use warnings() to see the first 50)\n",
      "R[write to console]: \n",
      "\n",
      "R[write to console]: In addition: \n",
      "R[write to console]: There were 50 or more warnings (use warnings() to see the first 50)\n",
      "R[write to console]: \n",
      "\n",
      "R[write to console]: In addition: \n",
      "R[write to console]: There were 50 or more warnings (use warnings() to see the first 50)\n",
      "R[write to console]: \n",
      "\n",
      "R[write to console]: In addition: \n",
      "R[write to console]: There were 50 or more warnings (use warnings() to see the first 50)\n",
      "R[write to console]: \n",
      "\n",
      "R[write to console]: In addition: \n",
      "R[write to console]: There were 50 or more warnings (use warnings() to see the first 50)\n",
      "R[write to console]: \n",
      "\n",
      "R[write to console]: In addition: \n",
      "R[write to console]: There were 50 or more warnings (use warnings() to see the first 50)\n",
      "R[write to console]: \n",
      "\n",
      "R[write to console]: In addition: \n",
      "R[write to console]: There were 50 or more warnings (use warnings() to see the first 50)\n",
      "R[write to console]: \n",
      "\n",
      "R[write to console]: In addition: \n",
      "R[write to console]: There were 50 or more warnings (use warnings() to see the first 50)\n",
      "R[write to console]: \n",
      "\n",
      "R[write to console]: In addition: \n",
      "R[write to console]: There were 50 or more warnings (use warnings() to see the first 50)\n",
      "R[write to console]: \n",
      "\n",
      "R[write to console]: In addition: \n",
      "R[write to console]: There were 50 or more warnings (use warnings() to see the first 50)\n",
      "R[write to console]: \n",
      "\n",
      "R[write to console]: In addition: \n",
      "R[write to console]: There were 50 or more warnings (use warnings() to see the first 50)\n",
      "R[write to console]: \n",
      "\n",
      "R[write to console]: In addition: \n",
      "R[write to console]: There were 50 or more warnings (use warnings() to see the first 50)\n",
      "R[write to console]: \n",
      "\n",
      "R[write to console]: In addition: \n",
      "R[write to console]: There were 50 or more warnings (use warnings() to see the first 50)\n",
      "R[write to console]: \n",
      "\n",
      "R[write to console]: In addition: \n",
      "R[write to console]: There were 50 or more warnings (use warnings() to see the first 50)\n",
      "R[write to console]: \n",
      "\n",
      "R[write to console]: In addition: \n",
      "R[write to console]: There were 50 or more warnings (use warnings() to see the first 50)\n",
      "R[write to console]: \n",
      "\n",
      "R[write to console]: In addition: \n",
      "R[write to console]: There were 50 or more warnings (use warnings() to see the first 50)\n",
      "R[write to console]: \n",
      "\n",
      "R[write to console]: In addition: \n",
      "R[write to console]: There were 50 or more warnings (use warnings() to see the first 50)\n",
      "R[write to console]: \n",
      "\n",
      "R[write to console]: In addition: \n",
      "R[write to console]: There were 50 or more warnings (use warnings() to see the first 50)\n",
      "R[write to console]: \n",
      "\n",
      "R[write to console]: In addition: \n",
      "R[write to console]: There were 50 or more warnings (use warnings() to see the first 50)\n",
      "R[write to console]: \n",
      "\n",
      "R[write to console]: In addition: \n",
      "R[write to console]: There were 50 or more warnings (use warnings() to see the first 50)\n",
      "R[write to console]: \n",
      "\n",
      "R[write to console]: In addition: \n",
      "R[write to console]: There were 50 or more warnings (use warnings() to see the first 50)\n",
      "R[write to console]: \n",
      "\n",
      "R[write to console]: In addition: \n",
      "R[write to console]: There were 50 or more warnings (use warnings() to see the first 50)\n",
      "R[write to console]: \n",
      "\n",
      "R[write to console]: In addition: \n",
      "R[write to console]: There were 50 or more warnings (use warnings() to see the first 50)\n",
      "R[write to console]: \n",
      "\n",
      "R[write to console]: In addition: \n",
      "R[write to console]: There were 50 or more warnings (use warnings() to see the first 50)\n",
      "R[write to console]: \n",
      "\n",
      "R[write to console]: In addition: \n",
      "R[write to console]: There were 50 or more warnings (use warnings() to see the first 50)\n",
      "R[write to console]: \n",
      "\n",
      "R[write to console]: In addition: \n",
      "R[write to console]: There were 50 or more warnings (use warnings() to see the first 50)\n",
      "R[write to console]: \n",
      "\n",
      "R[write to console]: In addition: \n",
      "R[write to console]: There were 50 or more warnings (use warnings() to see the first 50)\n",
      "R[write to console]: \n",
      "\n",
      "R[write to console]: In addition: \n",
      "R[write to console]: There were 50 or more warnings (use warnings() to see the first 50)\n",
      "R[write to console]: \n",
      "\n",
      "R[write to console]: In addition: \n",
      "R[write to console]: There were 50 or more warnings (use warnings() to see the first 50)\n",
      "R[write to console]: \n",
      "\n",
      "R[write to console]: In addition: \n",
      "R[write to console]: There were 50 or more warnings (use warnings() to see the first 50)\n",
      "R[write to console]: \n",
      "\n",
      "R[write to console]: In addition: \n",
      "R[write to console]: There were 50 or more warnings (use warnings() to see the first 50)\n",
      "R[write to console]: \n",
      "\n",
      "R[write to console]: In addition: \n",
      "R[write to console]: There were 50 or more warnings (use warnings() to see the first 50)\n",
      "R[write to console]: \n",
      "\n",
      "R[write to console]: In addition: \n",
      "R[write to console]: There were 50 or more warnings (use warnings() to see the first 50)\n",
      "R[write to console]: \n",
      "\n",
      "R[write to console]: In addition: \n",
      "R[write to console]: There were 50 or more warnings (use warnings() to see the first 50)\n",
      "R[write to console]: \n",
      "\n",
      "R[write to console]: In addition: \n",
      "R[write to console]: There were 50 or more warnings (use warnings() to see the first 50)\n",
      "R[write to console]: \n",
      "\n",
      "R[write to console]: In addition: \n",
      "R[write to console]: There were 50 or more warnings (use warnings() to see the first 50)\n",
      "R[write to console]: \n",
      "\n",
      "R[write to console]: In addition: \n",
      "R[write to console]: There were 50 or more warnings (use warnings() to see the first 50)\n",
      "R[write to console]: \n",
      "\n",
      "R[write to console]: In addition: \n",
      "R[write to console]: There were 50 or more warnings (use warnings() to see the first 50)\n",
      "R[write to console]: \n",
      "\n",
      "R[write to console]: In addition: \n",
      "R[write to console]: There were 50 or more warnings (use warnings() to see the first 50)\n",
      "R[write to console]: \n",
      "\n",
      "R[write to console]: In addition: \n",
      "R[write to console]: There were 50 or more warnings (use warnings() to see the first 50)\n",
      "R[write to console]: \n",
      "\n",
      "R[write to console]: In addition: \n",
      "R[write to console]: There were 50 or more warnings (use warnings() to see the first 50)\n",
      "R[write to console]: \n",
      "\n",
      "R[write to console]: In addition: \n",
      "R[write to console]: There were 50 or more warnings (use warnings() to see the first 50)\n",
      "R[write to console]: \n",
      "\n",
      "R[write to console]: In addition: \n",
      "R[write to console]: There were 50 or more warnings (use warnings() to see the first 50)\n",
      "R[write to console]: \n",
      "\n",
      "R[write to console]: In addition: \n",
      "R[write to console]: There were 50 or more warnings (use warnings() to see the first 50)\n",
      "R[write to console]: \n",
      "\n",
      "R[write to console]: In addition: \n",
      "R[write to console]: There were 50 or more warnings (use warnings() to see the first 50)\n",
      "R[write to console]: \n",
      "\n",
      "R[write to console]: In addition: \n",
      "R[write to console]: There were 50 or more warnings (use warnings() to see the first 50)\n",
      "R[write to console]: \n",
      "\n",
      "R[write to console]: In addition: \n",
      "R[write to console]: There were 50 or more warnings (use warnings() to see the first 50)\n",
      "R[write to console]: \n",
      "\n"
     ]
    }
   ],
   "source": [
    "anomaly_val = pd.DataFrame(columns=['anomaly_idx', 'dbn_size', 'percentile', 'alpha', 'lglk_threshold', 'fire', 'anom_%', 'hits'])\n",
    "\n",
    "encoder_cat = LabelEncoder()\n",
    "encoder_mlb = MultiLabelBinarizer()\n",
    "labels = encoder_cat.fit_transform(sorted(normal_df.columns.tolist()))\n",
    "encoder_mlb.fit([sorted(normal_df.columns.tolist())])\n",
    "hits_at_k = 0\n",
    "df_train = load_df_train(include_idle)\n",
    "dbn_size = 6\n",
    "percentile = 3\n",
    "\n",
    "for alpha in ['02','03','04','05','06']:\n",
    "    normal_lglk, normal_decomp_loglks = fit_dbn(dbn_size, alpha)\n",
    "    \n",
    "    aux = list()\n",
    "    for anomaly_idx, start_day in enumerate(anomalies):\n",
    "        if start_day > dfCV1.index.max():\n",
    "            continue\n",
    "        \n",
    "        logl, slice_df = eval_anomaly(start_day)\n",
    "        \n",
    "        \n",
    "        lglk_threshold = np.percentile(normal_lglk,percentile)\n",
    "        logl_df = pd.DataFrame(logl.copy(), columns=['logl'])\n",
    "        logl_df.loc[logl_df['logl']>=lglk_threshold, 'logl'] = 0\n",
    "        logl_df.loc[logl_df['logl']<lglk_threshold, 'logl'] = 1\n",
    "\n",
    "        anomaly_perc = len(np.nonzero(logl_df['logl'].values)[0])*100/len(logl_df['logl'])\n",
    "\n",
    "        anomaly_fires_idx = np.nonzero(logl_df['logl'].values)[0]\n",
    "        if anomaly_perc != 0:\n",
    "            sorted_df = get_top_k_features(k, anomaly_fires_idx)\n",
    "\n",
    "            formated_sensors = related_sensors[anomaly_idx].split(',')\n",
    "            if formated_sensors[0] != '?':\n",
    "                y_true = encoder_cat.transform(formated_sensors)\n",
    "                hits_at_k = top_k_accuracy_score(y_true=y_true, y_score=encoder_mlb.transform([sorted_df.T.columns]).repeat(len(y_true), axis=0), labels=labels, k=k)\n",
    "            else:\n",
    "                continue\n",
    "    \n",
    "            anomaly_val = pd.concat([anomaly_val, pd.DataFrame([[anomaly_idx, dbn_size, percentile, int(alpha), lglk_threshold, [1 if anomaly_perc != 0 else 0][0], anomaly_perc, [hits_at_k if anomaly_perc != 0 else 0][0]]], columns=['anomaly_idx', 'dbn_size', 'percentile', 'alpha', 'lglk_threshold', 'fire', 'anom_%', 'hits'])])"
   ]
  },
  {
   "cell_type": "code",
   "execution_count": 12,
   "id": "27fccb52",
   "metadata": {},
   "outputs": [
    {
     "data": {
      "text/html": [
       "<div>\n",
       "<style scoped>\n",
       "    .dataframe tbody tr th:only-of-type {\n",
       "        vertical-align: middle;\n",
       "    }\n",
       "\n",
       "    .dataframe tbody tr th {\n",
       "        vertical-align: top;\n",
       "    }\n",
       "\n",
       "    .dataframe thead th {\n",
       "        text-align: right;\n",
       "    }\n",
       "</style>\n",
       "<table border=\"1\" class=\"dataframe\">\n",
       "  <thead>\n",
       "    <tr style=\"text-align: right;\">\n",
       "      <th></th>\n",
       "      <th>anomaly_idx</th>\n",
       "      <th>dbn_size</th>\n",
       "      <th>percentile</th>\n",
       "      <th>alpha</th>\n",
       "      <th>lglk_threshold</th>\n",
       "      <th>fire</th>\n",
       "      <th>anom_%</th>\n",
       "      <th>hits</th>\n",
       "    </tr>\n",
       "  </thead>\n",
       "  <tbody>\n",
       "    <tr>\n",
       "      <th>0</th>\n",
       "      <td>0</td>\n",
       "      <td>6</td>\n",
       "      <td>3</td>\n",
       "      <td>2</td>\n",
       "      <td>-620.549482</td>\n",
       "      <td>1</td>\n",
       "      <td>99.301676</td>\n",
       "      <td>0.333333</td>\n",
       "    </tr>\n",
       "    <tr>\n",
       "      <th>1</th>\n",
       "      <td>1</td>\n",
       "      <td>6</td>\n",
       "      <td>3</td>\n",
       "      <td>2</td>\n",
       "      <td>-620.549482</td>\n",
       "      <td>1</td>\n",
       "      <td>100.000000</td>\n",
       "      <td>0.400000</td>\n",
       "    </tr>\n",
       "    <tr>\n",
       "      <th>2</th>\n",
       "      <td>2</td>\n",
       "      <td>6</td>\n",
       "      <td>3</td>\n",
       "      <td>2</td>\n",
       "      <td>-620.549482</td>\n",
       "      <td>1</td>\n",
       "      <td>100.000000</td>\n",
       "      <td>0.000000</td>\n",
       "    </tr>\n",
       "    <tr>\n",
       "      <th>3</th>\n",
       "      <td>4</td>\n",
       "      <td>6</td>\n",
       "      <td>3</td>\n",
       "      <td>2</td>\n",
       "      <td>-620.549482</td>\n",
       "      <td>1</td>\n",
       "      <td>64.525140</td>\n",
       "      <td>0.000000</td>\n",
       "    </tr>\n",
       "    <tr>\n",
       "      <th>4</th>\n",
       "      <td>5</td>\n",
       "      <td>6</td>\n",
       "      <td>3</td>\n",
       "      <td>2</td>\n",
       "      <td>-620.549482</td>\n",
       "      <td>1</td>\n",
       "      <td>100.000000</td>\n",
       "      <td>0.500000</td>\n",
       "    </tr>\n",
       "    <tr>\n",
       "      <th>...</th>\n",
       "      <td>...</td>\n",
       "      <td>...</td>\n",
       "      <td>...</td>\n",
       "      <td>...</td>\n",
       "      <td>...</td>\n",
       "      <td>...</td>\n",
       "      <td>...</td>\n",
       "      <td>...</td>\n",
       "    </tr>\n",
       "    <tr>\n",
       "      <th>90</th>\n",
       "      <td>18</td>\n",
       "      <td>6</td>\n",
       "      <td>3</td>\n",
       "      <td>6</td>\n",
       "      <td>-614.503497</td>\n",
       "      <td>1</td>\n",
       "      <td>100.000000</td>\n",
       "      <td>0.200000</td>\n",
       "    </tr>\n",
       "    <tr>\n",
       "      <th>91</th>\n",
       "      <td>19</td>\n",
       "      <td>6</td>\n",
       "      <td>3</td>\n",
       "      <td>6</td>\n",
       "      <td>-614.503497</td>\n",
       "      <td>1</td>\n",
       "      <td>100.000000</td>\n",
       "      <td>0.600000</td>\n",
       "    </tr>\n",
       "    <tr>\n",
       "      <th>92</th>\n",
       "      <td>20</td>\n",
       "      <td>6</td>\n",
       "      <td>3</td>\n",
       "      <td>6</td>\n",
       "      <td>-614.503497</td>\n",
       "      <td>1</td>\n",
       "      <td>100.000000</td>\n",
       "      <td>0.500000</td>\n",
       "    </tr>\n",
       "    <tr>\n",
       "      <th>93</th>\n",
       "      <td>21</td>\n",
       "      <td>6</td>\n",
       "      <td>3</td>\n",
       "      <td>6</td>\n",
       "      <td>-614.503497</td>\n",
       "      <td>1</td>\n",
       "      <td>100.000000</td>\n",
       "      <td>0.444444</td>\n",
       "    </tr>\n",
       "    <tr>\n",
       "      <th>94</th>\n",
       "      <td>22</td>\n",
       "      <td>6</td>\n",
       "      <td>3</td>\n",
       "      <td>6</td>\n",
       "      <td>-614.503497</td>\n",
       "      <td>1</td>\n",
       "      <td>100.000000</td>\n",
       "      <td>0.600000</td>\n",
       "    </tr>\n",
       "  </tbody>\n",
       "</table>\n",
       "<p>95 rows × 8 columns</p>\n",
       "</div>"
      ],
      "text/plain": [
       "   anomaly_idx dbn_size percentile alpha  lglk_threshold fire      anom_%  \\\n",
       "0            0        6          3     2     -620.549482    1   99.301676   \n",
       "1            1        6          3     2     -620.549482    1  100.000000   \n",
       "2            2        6          3     2     -620.549482    1  100.000000   \n",
       "3            4        6          3     2     -620.549482    1   64.525140   \n",
       "4            5        6          3     2     -620.549482    1  100.000000   \n",
       "..         ...      ...        ...   ...             ...  ...         ...   \n",
       "90          18        6          3     6     -614.503497    1  100.000000   \n",
       "91          19        6          3     6     -614.503497    1  100.000000   \n",
       "92          20        6          3     6     -614.503497    1  100.000000   \n",
       "93          21        6          3     6     -614.503497    1  100.000000   \n",
       "94          22        6          3     6     -614.503497    1  100.000000   \n",
       "\n",
       "        hits  \n",
       "0   0.333333  \n",
       "1   0.400000  \n",
       "2   0.000000  \n",
       "3   0.000000  \n",
       "4   0.500000  \n",
       "..       ...  \n",
       "90  0.200000  \n",
       "91  0.600000  \n",
       "92  0.500000  \n",
       "93  0.444444  \n",
       "94  0.600000  \n",
       "\n",
       "[95 rows x 8 columns]"
      ]
     },
     "execution_count": 12,
     "metadata": {},
     "output_type": "execute_result"
    }
   ],
   "source": [
    "anomaly_val.columns = anomaly_val.columns.get_level_values(0)\n",
    "anomaly_val = anomaly_val.reset_index(drop=True)\n",
    "anomaly_val"
   ]
  },
  {
   "cell_type": "code",
   "execution_count": null,
   "id": "156c45af",
   "metadata": {},
   "outputs": [],
   "source": [
    "sns.set(color_codes=True, font_scale=0.8)\n",
    "plt.figure(figsize=(15,5))\n",
    "mean_acc = anomaly_val[(anomaly_val.anomaly_idx < 30)].groupby(by=['anomaly_idx', 'alpha'])['hits'].mean()*100\n",
    " \n",
    "mean_acc = mean_acc.reset_index()\n",
    "sns.barplot(mean_acc, y='hits', x='anomaly_idx', hue='alpha')\n",
    "plt.xticks(np.arange(0, len(mean_acc.anomaly_idx.unique())) , [anomalies[i].strftime('%Y-%m-%d') for i in mean_acc.anomaly_idx.unique()], rotation=45)\n",
    "plt.ylabel(f'Hits@{k} (%)')\n",
    "plt.xlabel('Anomaly date')\n",
    "L=plt.legend(loc='center left', bbox_to_anchor=(1, 0.5))\n",
    "L.set_title('MMPC α')\n",
    "for i, text in enumerate(L.get_texts()):\n",
    "    text.set_text(f'5e-{i+2}')\n",
    "plt.savefig('figures/hits_at_10_alpha.svg', format='svg', bbox_inches = 'tight')\n",
    "\n",
    "plt.show()"
   ]
  },
  {
   "cell_type": "markdown",
   "id": "40f3266e",
   "metadata": {},
   "source": [
    "### Final results"
   ]
  },
  {
   "cell_type": "code",
   "execution_count": 30,
   "id": "03763534",
   "metadata": {},
   "outputs": [
    {
     "name": "stderr",
     "output_type": "stream",
     "text": [
      "R[write to console]: In addition: \n",
      "R[write to console]: There were 50 or more warnings (use warnings() to see the first 50)\n",
      "R[write to console]: \n",
      "\n",
      "R[write to console]: In addition: \n",
      "R[write to console]: There were 50 or more warnings (use warnings() to see the first 50)\n",
      "R[write to console]: \n",
      "\n",
      "R[write to console]: In addition: \n",
      "R[write to console]: There were 50 or more warnings (use warnings() to see the first 50)\n",
      "R[write to console]: \n",
      "\n",
      "R[write to console]: In addition: \n",
      "R[write to console]: There were 50 or more warnings (use warnings() to see the first 50)\n",
      "R[write to console]: \n",
      "\n",
      "R[write to console]: In addition: \n",
      "R[write to console]: There were 50 or more warnings (use warnings() to see the first 50)\n",
      "R[write to console]: \n",
      "\n",
      "R[write to console]: In addition: \n",
      "R[write to console]: There were 50 or more warnings (use warnings() to see the first 50)\n",
      "R[write to console]: \n",
      "\n",
      "R[write to console]: In addition: \n",
      "R[write to console]: There were 50 or more warnings (use warnings() to see the first 50)\n",
      "R[write to console]: \n",
      "\n",
      "R[write to console]: In addition: \n",
      "R[write to console]: There were 50 or more warnings (use warnings() to see the first 50)\n",
      "R[write to console]: \n",
      "\n",
      "R[write to console]: In addition: \n",
      "R[write to console]: There were 50 or more warnings (use warnings() to see the first 50)\n",
      "R[write to console]: \n",
      "\n",
      "R[write to console]: In addition: \n",
      "R[write to console]: There were 50 or more warnings (use warnings() to see the first 50)\n",
      "R[write to console]: \n",
      "\n",
      "R[write to console]: In addition: \n",
      "R[write to console]: There were 50 or more warnings (use warnings() to see the first 50)\n",
      "R[write to console]: \n",
      "\n",
      "R[write to console]: In addition: \n",
      "R[write to console]: There were 50 or more warnings (use warnings() to see the first 50)\n",
      "R[write to console]: \n",
      "\n",
      "R[write to console]: In addition: \n",
      "R[write to console]: There were 50 or more warnings (use warnings() to see the first 50)\n",
      "R[write to console]: \n",
      "\n",
      "R[write to console]: In addition: \n",
      "R[write to console]: There were 50 or more warnings (use warnings() to see the first 50)\n",
      "R[write to console]: \n",
      "\n",
      "R[write to console]: In addition: \n",
      "R[write to console]: There were 50 or more warnings (use warnings() to see the first 50)\n",
      "R[write to console]: \n",
      "\n",
      "R[write to console]: In addition: \n",
      "R[write to console]: There were 50 or more warnings (use warnings() to see the first 50)\n",
      "R[write to console]: \n",
      "\n",
      "R[write to console]: In addition: \n",
      "R[write to console]: There were 50 or more warnings (use warnings() to see the first 50)\n",
      "R[write to console]: \n",
      "\n",
      "R[write to console]: In addition: \n",
      "R[write to console]: There were 50 or more warnings (use warnings() to see the first 50)\n",
      "R[write to console]: \n",
      "\n",
      "R[write to console]: In addition: \n",
      "R[write to console]: There were 50 or more warnings (use warnings() to see the first 50)\n",
      "R[write to console]: \n",
      "\n",
      "R[write to console]: In addition: \n",
      "R[write to console]: There were 50 or more warnings (use warnings() to see the first 50)\n",
      "R[write to console]: \n",
      "\n",
      "R[write to console]: In addition: \n",
      "R[write to console]: There were 50 or more warnings (use warnings() to see the first 50)\n",
      "R[write to console]: \n",
      "\n",
      "R[write to console]: In addition: \n",
      "R[write to console]: There were 50 or more warnings (use warnings() to see the first 50)\n",
      "R[write to console]: \n",
      "\n",
      "R[write to console]: In addition: \n",
      "R[write to console]: There were 50 or more warnings (use warnings() to see the first 50)\n",
      "R[write to console]: \n",
      "\n",
      "R[write to console]: In addition: \n",
      "R[write to console]: There were 50 or more warnings (use warnings() to see the first 50)\n",
      "R[write to console]: \n",
      "\n"
     ]
    }
   ],
   "source": [
    "anomaly_val = pd.DataFrame(columns=['anomaly_idx', 'dbn_size', 'percentile', 'alpha', 'lglk_threshold', 'fire', 'anom_%', 'hits'])\n",
    "\n",
    "encoder_cat = LabelEncoder()\n",
    "encoder_mlb = MultiLabelBinarizer()\n",
    "labels = encoder_cat.fit_transform(sorted(normal_df.columns.tolist()))\n",
    "encoder_mlb.fit([sorted(normal_df.columns.tolist())])\n",
    "hits_at_k = 0\n",
    "df_train = load_df_train(include_idle)\n",
    "dbn_size = 6\n",
    "percentile = 3\n",
    "\n",
    "if IDF == 1:\n",
    "    alpha = '06'\n",
    "else:\n",
    "    alpha = '04'\n",
    "normal_lglk, normal_decomp_loglks = fit_dbn(dbn_size, alpha, False)\n",
    "\n",
    "aux = list()\n",
    "for anomaly_idx, start_day in enumerate(anomalies):\n",
    "    if start_day > dfCV1.index.max():\n",
    "        continue\n",
    "    \n",
    "    logl, slice_df = eval_anomaly(start_day)\n",
    "    \n",
    "    \n",
    "    lglk_threshold = np.percentile(normal_lglk,percentile)\n",
    "    logl_df = pd.DataFrame(logl.copy(), columns=['logl'])\n",
    "    logl_df.loc[logl_df['logl']>=lglk_threshold, 'logl'] = 0\n",
    "    logl_df.loc[logl_df['logl']<lglk_threshold, 'logl'] = 1\n",
    "\n",
    "    anomaly_perc = len(np.nonzero(logl_df['logl'].values)[0])*100/len(logl_df['logl'])\n",
    "\n",
    "    anomaly_fires_idx = np.nonzero(logl_df['logl'].values)[0]\n",
    "    if anomaly_perc != 0:\n",
    "        sorted_df = get_top_k_features(k, anomaly_fires_idx)\n",
    "\n",
    "        formated_sensors = related_sensors[anomaly_idx].split(',')\n",
    "        if formated_sensors[0] != '?':\n",
    "            y_true = encoder_cat.transform(formated_sensors)\n",
    "            hits_at_k = top_k_accuracy_score(y_true=y_true, y_score=encoder_mlb.transform([sorted_df.T.columns]).repeat(len(y_true), axis=0), labels=labels, k=k)\n",
    "        else:\n",
    "            continue\n",
    "\n",
    "        anomaly_val = pd.concat([anomaly_val, pd.DataFrame([[anomaly_idx, dbn_size, percentile, int(alpha), lglk_threshold, [1 if anomaly_perc != 0 else 0][0], anomaly_perc, [hits_at_k if anomaly_perc != 0 else 0][0]]], columns=['anomaly_idx', 'dbn_size', 'percentile', 'alpha', 'lglk_threshold', 'fire', 'anom_%', 'hits'])])"
   ]
  },
  {
   "cell_type": "code",
   "execution_count": 31,
   "id": "943dc55e",
   "metadata": {},
   "outputs": [
    {
     "data": {
      "text/html": [
       "<div>\n",
       "<style scoped>\n",
       "    .dataframe tbody tr th:only-of-type {\n",
       "        vertical-align: middle;\n",
       "    }\n",
       "\n",
       "    .dataframe tbody tr th {\n",
       "        vertical-align: top;\n",
       "    }\n",
       "\n",
       "    .dataframe thead th {\n",
       "        text-align: right;\n",
       "    }\n",
       "</style>\n",
       "<table border=\"1\" class=\"dataframe\">\n",
       "  <thead>\n",
       "    <tr style=\"text-align: right;\">\n",
       "      <th></th>\n",
       "      <th>anomaly_idx</th>\n",
       "      <th>dbn_size</th>\n",
       "      <th>percentile</th>\n",
       "      <th>alpha</th>\n",
       "      <th>lglk_threshold</th>\n",
       "      <th>fire</th>\n",
       "      <th>anom_%</th>\n",
       "      <th>hits</th>\n",
       "    </tr>\n",
       "  </thead>\n",
       "  <tbody>\n",
       "    <tr>\n",
       "      <th>0</th>\n",
       "      <td>0</td>\n",
       "      <td>6</td>\n",
       "      <td>3</td>\n",
       "      <td>4</td>\n",
       "      <td>-606.337684</td>\n",
       "      <td>1</td>\n",
       "      <td>94.832402</td>\n",
       "      <td>0.166667</td>\n",
       "    </tr>\n",
       "    <tr>\n",
       "      <th>1</th>\n",
       "      <td>1</td>\n",
       "      <td>6</td>\n",
       "      <td>3</td>\n",
       "      <td>4</td>\n",
       "      <td>-606.337684</td>\n",
       "      <td>1</td>\n",
       "      <td>100.000000</td>\n",
       "      <td>0.400000</td>\n",
       "    </tr>\n",
       "    <tr>\n",
       "      <th>2</th>\n",
       "      <td>2</td>\n",
       "      <td>6</td>\n",
       "      <td>3</td>\n",
       "      <td>4</td>\n",
       "      <td>-606.337684</td>\n",
       "      <td>1</td>\n",
       "      <td>100.000000</td>\n",
       "      <td>0.500000</td>\n",
       "    </tr>\n",
       "    <tr>\n",
       "      <th>3</th>\n",
       "      <td>4</td>\n",
       "      <td>6</td>\n",
       "      <td>3</td>\n",
       "      <td>4</td>\n",
       "      <td>-606.337684</td>\n",
       "      <td>1</td>\n",
       "      <td>65.363128</td>\n",
       "      <td>0.500000</td>\n",
       "    </tr>\n",
       "    <tr>\n",
       "      <th>4</th>\n",
       "      <td>5</td>\n",
       "      <td>6</td>\n",
       "      <td>3</td>\n",
       "      <td>4</td>\n",
       "      <td>-606.337684</td>\n",
       "      <td>1</td>\n",
       "      <td>100.000000</td>\n",
       "      <td>0.250000</td>\n",
       "    </tr>\n",
       "    <tr>\n",
       "      <th>5</th>\n",
       "      <td>6</td>\n",
       "      <td>6</td>\n",
       "      <td>3</td>\n",
       "      <td>4</td>\n",
       "      <td>-606.337684</td>\n",
       "      <td>1</td>\n",
       "      <td>100.000000</td>\n",
       "      <td>0.333333</td>\n",
       "    </tr>\n",
       "    <tr>\n",
       "      <th>6</th>\n",
       "      <td>7</td>\n",
       "      <td>6</td>\n",
       "      <td>3</td>\n",
       "      <td>4</td>\n",
       "      <td>-606.337684</td>\n",
       "      <td>1</td>\n",
       "      <td>100.000000</td>\n",
       "      <td>0.500000</td>\n",
       "    </tr>\n",
       "    <tr>\n",
       "      <th>7</th>\n",
       "      <td>9</td>\n",
       "      <td>6</td>\n",
       "      <td>3</td>\n",
       "      <td>4</td>\n",
       "      <td>-606.337684</td>\n",
       "      <td>1</td>\n",
       "      <td>100.000000</td>\n",
       "      <td>0.000000</td>\n",
       "    </tr>\n",
       "    <tr>\n",
       "      <th>8</th>\n",
       "      <td>10</td>\n",
       "      <td>6</td>\n",
       "      <td>3</td>\n",
       "      <td>4</td>\n",
       "      <td>-606.337684</td>\n",
       "      <td>1</td>\n",
       "      <td>100.000000</td>\n",
       "      <td>0.571429</td>\n",
       "    </tr>\n",
       "    <tr>\n",
       "      <th>9</th>\n",
       "      <td>12</td>\n",
       "      <td>6</td>\n",
       "      <td>3</td>\n",
       "      <td>4</td>\n",
       "      <td>-606.337684</td>\n",
       "      <td>1</td>\n",
       "      <td>90.769231</td>\n",
       "      <td>1.000000</td>\n",
       "    </tr>\n",
       "    <tr>\n",
       "      <th>10</th>\n",
       "      <td>13</td>\n",
       "      <td>6</td>\n",
       "      <td>3</td>\n",
       "      <td>4</td>\n",
       "      <td>-606.337684</td>\n",
       "      <td>1</td>\n",
       "      <td>94.965035</td>\n",
       "      <td>0.500000</td>\n",
       "    </tr>\n",
       "    <tr>\n",
       "      <th>11</th>\n",
       "      <td>15</td>\n",
       "      <td>6</td>\n",
       "      <td>3</td>\n",
       "      <td>4</td>\n",
       "      <td>-606.337684</td>\n",
       "      <td>1</td>\n",
       "      <td>96.923077</td>\n",
       "      <td>0.500000</td>\n",
       "    </tr>\n",
       "    <tr>\n",
       "      <th>12</th>\n",
       "      <td>16</td>\n",
       "      <td>6</td>\n",
       "      <td>3</td>\n",
       "      <td>4</td>\n",
       "      <td>-606.337684</td>\n",
       "      <td>1</td>\n",
       "      <td>100.000000</td>\n",
       "      <td>0.200000</td>\n",
       "    </tr>\n",
       "    <tr>\n",
       "      <th>13</th>\n",
       "      <td>17</td>\n",
       "      <td>6</td>\n",
       "      <td>3</td>\n",
       "      <td>4</td>\n",
       "      <td>-606.337684</td>\n",
       "      <td>1</td>\n",
       "      <td>100.000000</td>\n",
       "      <td>0.100000</td>\n",
       "    </tr>\n",
       "    <tr>\n",
       "      <th>14</th>\n",
       "      <td>18</td>\n",
       "      <td>6</td>\n",
       "      <td>3</td>\n",
       "      <td>4</td>\n",
       "      <td>-606.337684</td>\n",
       "      <td>1</td>\n",
       "      <td>100.000000</td>\n",
       "      <td>0.100000</td>\n",
       "    </tr>\n",
       "    <tr>\n",
       "      <th>15</th>\n",
       "      <td>19</td>\n",
       "      <td>6</td>\n",
       "      <td>3</td>\n",
       "      <td>4</td>\n",
       "      <td>-606.337684</td>\n",
       "      <td>1</td>\n",
       "      <td>100.000000</td>\n",
       "      <td>0.600000</td>\n",
       "    </tr>\n",
       "    <tr>\n",
       "      <th>16</th>\n",
       "      <td>20</td>\n",
       "      <td>6</td>\n",
       "      <td>3</td>\n",
       "      <td>4</td>\n",
       "      <td>-606.337684</td>\n",
       "      <td>1</td>\n",
       "      <td>100.000000</td>\n",
       "      <td>0.000000</td>\n",
       "    </tr>\n",
       "    <tr>\n",
       "      <th>17</th>\n",
       "      <td>21</td>\n",
       "      <td>6</td>\n",
       "      <td>3</td>\n",
       "      <td>4</td>\n",
       "      <td>-606.337684</td>\n",
       "      <td>1</td>\n",
       "      <td>100.000000</td>\n",
       "      <td>0.444444</td>\n",
       "    </tr>\n",
       "    <tr>\n",
       "      <th>18</th>\n",
       "      <td>22</td>\n",
       "      <td>6</td>\n",
       "      <td>3</td>\n",
       "      <td>4</td>\n",
       "      <td>-606.337684</td>\n",
       "      <td>1</td>\n",
       "      <td>100.000000</td>\n",
       "      <td>0.600000</td>\n",
       "    </tr>\n",
       "  </tbody>\n",
       "</table>\n",
       "</div>"
      ],
      "text/plain": [
       "   anomaly_idx dbn_size percentile alpha  lglk_threshold fire      anom_%  \\\n",
       "0            0        6          3     4     -606.337684    1   94.832402   \n",
       "1            1        6          3     4     -606.337684    1  100.000000   \n",
       "2            2        6          3     4     -606.337684    1  100.000000   \n",
       "3            4        6          3     4     -606.337684    1   65.363128   \n",
       "4            5        6          3     4     -606.337684    1  100.000000   \n",
       "5            6        6          3     4     -606.337684    1  100.000000   \n",
       "6            7        6          3     4     -606.337684    1  100.000000   \n",
       "7            9        6          3     4     -606.337684    1  100.000000   \n",
       "8           10        6          3     4     -606.337684    1  100.000000   \n",
       "9           12        6          3     4     -606.337684    1   90.769231   \n",
       "10          13        6          3     4     -606.337684    1   94.965035   \n",
       "11          15        6          3     4     -606.337684    1   96.923077   \n",
       "12          16        6          3     4     -606.337684    1  100.000000   \n",
       "13          17        6          3     4     -606.337684    1  100.000000   \n",
       "14          18        6          3     4     -606.337684    1  100.000000   \n",
       "15          19        6          3     4     -606.337684    1  100.000000   \n",
       "16          20        6          3     4     -606.337684    1  100.000000   \n",
       "17          21        6          3     4     -606.337684    1  100.000000   \n",
       "18          22        6          3     4     -606.337684    1  100.000000   \n",
       "\n",
       "        hits  \n",
       "0   0.166667  \n",
       "1   0.400000  \n",
       "2   0.500000  \n",
       "3   0.500000  \n",
       "4   0.250000  \n",
       "5   0.333333  \n",
       "6   0.500000  \n",
       "7   0.000000  \n",
       "8   0.571429  \n",
       "9   1.000000  \n",
       "10  0.500000  \n",
       "11  0.500000  \n",
       "12  0.200000  \n",
       "13  0.100000  \n",
       "14  0.100000  \n",
       "15  0.600000  \n",
       "16  0.000000  \n",
       "17  0.444444  \n",
       "18  0.600000  "
      ]
     },
     "execution_count": 31,
     "metadata": {},
     "output_type": "execute_result"
    }
   ],
   "source": [
    "anomaly_val.columns = anomaly_val.columns.get_level_values(0)\n",
    "anomaly_val = anomaly_val.reset_index(drop=True)\n",
    "anomaly_val"
   ]
  },
  {
   "cell_type": "code",
   "execution_count": null,
   "id": "6402a959",
   "metadata": {},
   "outputs": [],
   "source": [
    "sns.set(color_codes=True, font_scale=0.9)\n",
    "plt.figure(figsize=(20,5))\n",
    "mean_acc = anomaly_val.groupby(by=['anomaly_idx'])['hits'].mean()*100\n",
    "mean_acc = mean_acc.reset_index()\n",
    "sns.barplot(mean_acc, y='hits', x='anomaly_idx')\n",
    "plt.xticks(np.arange(0, len(anomaly_val.anomaly_idx.unique())) , [anomalies[i].strftime('%Y-%m-%d') for i in anomaly_val.anomaly_idx.unique()], rotation=45)\n",
    "plt.ylabel(f'Hits@{k} (%)')\n",
    "plt.xlabel('Anomaly date')\n",
    "plt.title(f'IDF{IDF} results')\n",
    "plt.savefig(f'figures/hits_at_10_IDF{IDF}.svg', format='svg', bbox_inches = 'tight')\n",
    "\n",
    "plt.show()"
   ]
  },
  {
   "cell_type": "markdown",
   "id": "0d90d09f",
   "metadata": {},
   "source": [
    "## LGLK decomposition"
   ]
  },
  {
   "cell_type": "code",
   "execution_count": 47,
   "id": "ca3cba81",
   "metadata": {},
   "outputs": [],
   "source": [
    "include_idle = False"
   ]
  },
  {
   "cell_type": "code",
   "execution_count": 51,
   "id": "23bad29a",
   "metadata": {},
   "outputs": [
    {
     "name": "stderr",
     "output_type": "stream",
     "text": [
      "R[write to console]: In addition: \n",
      "R[write to console]: There were 50 or more warnings (use warnings() to see the first 50)\n",
      "R[write to console]: \n",
      "\n"
     ]
    }
   ],
   "source": [
    "start_day = '2022-04-28 06:00:00'\n",
    "end_day = '2022-04-28 06:44:00'\n",
    "\n",
    "start_day = pd.to_datetime(start_day, format='%Y-%m-%d %H:%M:%S')\n",
    "end_day = pd.to_datetime(end_day, format='%Y-%m-%d %H:%M:%S')\n",
    "\n",
    "if IDF == 1:\n",
    "    slice_df = dfCV1[dfCV1.index.to_series().between(start_day, end_day)]\n",
    "    alpha = '06'\n",
    "else:\n",
    "    slice_df = dfCV2[dfCV2.index.to_series().between(start_day, end_day)]\n",
    "    alpha = '04'\n",
    "\n",
    "slice_df.columns =[translation_dict[x] for x in slice_df.columns]\n",
    "\n",
    "\n",
    "with (robj.default_converter + pandas2ri.converter).context():\n",
    "    robj.globalenv['dt_val'] = robj.conversion.get_conversion().py2rpy(slice_df.reset_index(drop=True))\n",
    "\n",
    "r(f'load(file=\"./nets/CV{IDF}/size{dbn_size}_dmmhc_mmpc_hc_mi-g_bic-g_5e-{alpha}_fit.RDS\")')\n",
    "r(f'''\n",
    "f_dt_val <- fold_dt(dt_val, {dbn_size})\n",
    "decomp_loglks <- c()\n",
    "for (node in names(f_dt_val)) {'{'}\n",
    "    decomp_loglks <- cbind(decomp_loglks, logLik(dbn, f_dt_val, by.sample=TRUE, na.rm=TRUE, by.node=TRUE, nodes=node))\n",
    "{'}'}\n",
    "''')\n",
    "\n",
    "with (robj.default_converter + pandas2ri.converter).context():\n",
    "    decomp_loglks = np.array(robj.conversion.get_conversion().rpy2py(robj.globalenv['decomp_loglks']))\n",
    "decomp_loglks = pd.DataFrame(decomp_loglks, columns=r('names(f_dt_val)'))\n",
    "decomp_loglks.index = slice_df.index[dbn_size-1:]\n",
    "\n",
    "   \n",
    "    \n",
    "        "
   ]
  },
  {
   "cell_type": "code",
   "execution_count": 52,
   "id": "d187d8f1",
   "metadata": {},
   "outputs": [],
   "source": [
    "max_num_variables=10"
   ]
  },
  {
   "cell_type": "code",
   "execution_count": 58,
   "id": "b0a0c5d6",
   "metadata": {},
   "outputs": [
    {
     "data": {
      "image/png": "[encoded data removed]",
      "text/plain": [
       "<Figure size 1500x400 with 1 Axes>"
      ]
     },
     "metadata": {},
     "output_type": "display_data"
    }
   ],
   "source": [
    "decomp_loglks.columns = [re.split(r'_t_(\\d+)', x)[0]\n",
    "                             for x in decomp_loglks.columns]\n",
    "decomp_loglks = decomp_loglks.groupby(decomp_loglks.columns, axis=1).sum()\n",
    "\n",
    "decomp_sloglks = pd.DataFrame(decomp_loglks.sum(axis=0)).T\n",
    "\n",
    "sorted_df = decomp_sloglks.sort_values(by=0, axis=1, ascending=True).iloc[:, :max_num_variables]\n",
    "ax = sorted_df.T.plot.bar(stacked=True, legend=True, cmap='viridis', rot=40, figsize=(15,4))\n",
    "ax.set_xticklabels(labels=sorted_df.columns, ha='right', fontsize=10)\n",
    "plt.ylabel('log-likelihood', fontsize=10)\n",
    "plt.title(f\"Period:\" + start_day.strftime('%Y-%m-%d %H:%M||') + end_day.strftime('%Y-%m-%d %H:%M'), size=10)\n",
    "ax.get_legend().remove()\n",
    "plt.show()\n",
    "\n"
   ]
  },
  {
   "cell_type": "code",
   "execution_count": 67,
   "id": "ab4813bd",
   "metadata": {},
   "outputs": [
    {
     "data": {
      "application/vnd.plotly.v1+json": {
       "config": {
        "plotlyServerURL": "https://plot.ly"
       },
       "data": [
        {
         "marker": {
          "line": {
           "width": 0.01
          }
         },
         "mode": "lines",
         "name": "Overall log-likelihood",
         "type": "scatter",
         "x": [
          "2022-04-28T06:22:00",
          "2022-04-28T06:24:00",
          "2022-04-28T06:26:00",
          "2022-04-28T06:28:00",
          "2022-04-28T06:30:00",
          "2022-04-28T06:32:00",
          "2022-04-28T06:34:00",
          "2022-04-28T06:36:00",
          "2022-04-28T06:38:00",
          "2022-04-28T06:40:00",
          "2022-04-28T06:42:00",
          "2022-04-28T06:44:00"
         ],
         "xaxis": "x",
         "y": [
          -1074.0591559072411,
          -1126.7394541150632,
          -1347.8147720484874,
          -1509.9280632052712,
          -1542.4088436184866,
          -1226.2678349301625,
          -1290.6147227600147,
          -1272.9399112006397,
          -1282.7473270560172,
          -1305.4248439255603,
          -1147.6989795021248,
          -1002.0781800473179,
          -848.0107099515708,
          -754.779142120705,
          -584.2374455427748,
          -372.5718990201158,
          -363.69234943343304,
          -369.0328329912029
         ],
         "yaxis": "y"
        },
        {
         "marker": {
          "line": {
           "width": 0.01
          }
         },
         "mode": "lines",
         "name": "Vibr. fan free log-likelihood",
         "type": "scatter",
         "x": [
          "2022-04-28T06:22:00",
          "2022-04-28T06:24:00",
          "2022-04-28T06:26:00",
          "2022-04-28T06:28:00",
          "2022-04-28T06:30:00",
          "2022-04-28T06:32:00",
          "2022-04-28T06:34:00",
          "2022-04-28T06:36:00",
          "2022-04-28T06:38:00",
          "2022-04-28T06:40:00",
          "2022-04-28T06:42:00",
          "2022-04-28T06:44:00"
         ],
         "xaxis": "x2",
         "y": [
          -248.9026492673691,
          -277.33917165258333,
          -360.58220450216675,
          -424.4999903183219,
          -436.3441704633432,
          -316.8516387367471,
          -348.20208365208373,
          -345.3588054047792,
          -350.6766979742659,
          -349.7671589339456,
          -288.05922842166194,
          -235.8985670690948,
          -169.3353791287261,
          -133.97540391163375,
          -62.89189437478067,
          6.20292305824133,
          6.22455694685438,
          6.22293794322243
         ],
         "yaxis": "y2"
        }
       ],
       "layout": {
        "height": 600,
        "showlegend": true,
        "template": {
         "data": {
          "bar": [
           {
            "error_x": {
             "color": "#2a3f5f"
            },
            "error_y": {
             "color": "#2a3f5f"
            },
            "marker": {
             "line": {
              "color": "#E5ECF6",
              "width": 0.5
             },
             "pattern": {
              "fillmode": "overlay",
              "size": 10,
              "solidity": 0.2
             }
            },
            "type": "bar"
           }
          ],
          "barpolar": [
           {
            "marker": {
             "line": {
              "color": "#E5ECF6",
              "width": 0.5
             },
             "pattern": {
              "fillmode": "overlay",
              "size": 10,
              "solidity": 0.2
             }
            },
            "type": "barpolar"
           }
          ],
          "carpet": [
           {
            "aaxis": {
             "endlinecolor": "#2a3f5f",
             "gridcolor": "white",
             "linecolor": "white",
             "minorgridcolor": "white",
             "startlinecolor": "#2a3f5f"
            },
            "baxis": {
             "endlinecolor": "#2a3f5f",
             "gridcolor": "white",
             "linecolor": "white",
             "minorgridcolor": "white",
             "startlinecolor": "#2a3f5f"
            },
            "type": "carpet"
           }
          ],
          "choropleth": [
           {
            "colorbar": {
             "outlinewidth": 0,
             "ticks": ""
            },
            "type": "choropleth"
           }
          ],
          "contour": [
           {
            "colorbar": {
             "outlinewidth": 0,
             "ticks": ""
            },
            "colorscale": [
             [
              0,
              "#0d0887"
             ],
             [
              0.1111111111111111,
              "#46039f"
             ],
             [
              0.2222222222222222,
              "#7201a8"
             ],
             [
              0.3333333333333333,
              "#9c179e"
             ],
             [
              0.4444444444444444,
              "#bd3786"
             ],
             [
              0.5555555555555556,
              "#d8576b"
             ],
             [
              0.6666666666666666,
              "#ed7953"
             ],
             [
              0.7777777777777778,
              "#fb9f3a"
             ],
             [
              0.8888888888888888,
              "#fdca26"
             ],
             [
              1,
              "#f0f921"
             ]
            ],
            "type": "contour"
           }
          ],
          "contourcarpet": [
           {
            "colorbar": {
             "outlinewidth": 0,
             "ticks": ""
            },
            "type": "contourcarpet"
           }
          ],
          "heatmap": [
           {
            "colorbar": {
             "outlinewidth": 0,
             "ticks": ""
            },
            "colorscale": [
             [
              0,
              "#0d0887"
             ],
             [
              0.1111111111111111,
              "#46039f"
             ],
             [
              0.2222222222222222,
              "#7201a8"
             ],
             [
              0.3333333333333333,
              "#9c179e"
             ],
             [
              0.4444444444444444,
              "#bd3786"
             ],
             [
              0.5555555555555556,
              "#d8576b"
             ],
             [
              0.6666666666666666,
              "#ed7953"
             ],
             [
              0.7777777777777778,
              "#fb9f3a"
             ],
             [
              0.8888888888888888,
              "#fdca26"
             ],
             [
              1,
              "#f0f921"
             ]
            ],
            "type": "heatmap"
           }
          ],
          "heatmapgl": [
           {
            "colorbar": {
             "outlinewidth": 0,
             "ticks": ""
            },
            "colorscale": [
             [
              0,
              "#0d0887"
             ],
             [
              0.1111111111111111,
              "#46039f"
             ],
             [
              0.2222222222222222,
              "#7201a8"
             ],
             [
              0.3333333333333333,
              "#9c179e"
             ],
             [
              0.4444444444444444,
              "#bd3786"
             ],
             [
              0.5555555555555556,
              "#d8576b"
             ],
             [
              0.6666666666666666,
              "#ed7953"
             ],
             [
              0.7777777777777778,
              "#fb9f3a"
             ],
             [
              0.8888888888888888,
              "#fdca26"
             ],
             [
              1,
              "#f0f921"
             ]
            ],
            "type": "heatmapgl"
           }
          ],
          "histogram": [
           {
            "marker": {
             "pattern": {
              "fillmode": "overlay",
              "size": 10,
              "solidity": 0.2
             }
            },
            "type": "histogram"
           }
          ],
          "histogram2d": [
           {
            "colorbar": {
             "outlinewidth": 0,
             "ticks": ""
            },
            "colorscale": [
             [
              0,
              "#0d0887"
             ],
             [
              0.1111111111111111,
              "#46039f"
             ],
             [
              0.2222222222222222,
              "#7201a8"
             ],
             [
              0.3333333333333333,
              "#9c179e"
             ],
             [
              0.4444444444444444,
              "#bd3786"
             ],
             [
              0.5555555555555556,
              "#d8576b"
             ],
             [
              0.6666666666666666,
              "#ed7953"
             ],
             [
              0.7777777777777778,
              "#fb9f3a"
             ],
             [
              0.8888888888888888,
              "#fdca26"
             ],
             [
              1,
              "#f0f921"
             ]
            ],
            "type": "histogram2d"
           }
          ],
          "histogram2dcontour": [
           {
            "colorbar": {
             "outlinewidth": 0,
             "ticks": ""
            },
            "colorscale": [
             [
              0,
              "#0d0887"
             ],
             [
              0.1111111111111111,
              "#46039f"
             ],
             [
              0.2222222222222222,
              "#7201a8"
             ],
             [
              0.3333333333333333,
              "#9c179e"
             ],
             [
              0.4444444444444444,
              "#bd3786"
             ],
             [
              0.5555555555555556,
              "#d8576b"
             ],
             [
              0.6666666666666666,
              "#ed7953"
             ],
             [
              0.7777777777777778,
              "#fb9f3a"
             ],
             [
              0.8888888888888888,
              "#fdca26"
             ],
             [
              1,
              "#f0f921"
             ]
            ],
            "type": "histogram2dcontour"
           }
          ],
          "mesh3d": [
           {
            "colorbar": {
             "outlinewidth": 0,
             "ticks": ""
            },
            "type": "mesh3d"
           }
          ],
          "parcoords": [
           {
            "line": {
             "colorbar": {
              "outlinewidth": 0,
              "ticks": ""
             }
            },
            "type": "parcoords"
           }
          ],
          "pie": [
           {
            "automargin": true,
            "type": "pie"
           }
          ],
          "scatter": [
           {
            "fillpattern": {
             "fillmode": "overlay",
             "size": 10,
             "solidity": 0.2
            },
            "type": "scatter"
           }
          ],
          "scatter3d": [
           {
            "line": {
             "colorbar": {
              "outlinewidth": 0,
              "ticks": ""
             }
            },
            "marker": {
             "colorbar": {
              "outlinewidth": 0,
              "ticks": ""
             }
            },
            "type": "scatter3d"
           }
          ],
          "scattercarpet": [
           {
            "marker": {
             "colorbar": {
              "outlinewidth": 0,
              "ticks": ""
             }
            },
            "type": "scattercarpet"
           }
          ],
          "scattergeo": [
           {
            "marker": {
             "colorbar": {
              "outlinewidth": 0,
              "ticks": ""
             }
            },
            "type": "scattergeo"
           }
          ],
          "scattergl": [
           {
            "marker": {
             "colorbar": {
              "outlinewidth": 0,
              "ticks": ""
             }
            },
            "type": "scattergl"
           }
          ],
          "scattermapbox": [
           {
            "marker": {
             "colorbar": {
              "outlinewidth": 0,
              "ticks": ""
             }
            },
            "type": "scattermapbox"
           }
          ],
          "scatterpolar": [
           {
            "marker": {
             "colorbar": {
              "outlinewidth": 0,
              "ticks": ""
             }
            },
            "type": "scatterpolar"
           }
          ],
          "scatterpolargl": [
           {
            "marker": {
             "colorbar": {
              "outlinewidth": 0,
              "ticks": ""
             }
            },
            "type": "scatterpolargl"
           }
          ],
          "scatterternary": [
           {
            "marker": {
             "colorbar": {
              "outlinewidth": 0,
              "ticks": ""
             }
            },
            "type": "scatterternary"
           }
          ],
          "surface": [
           {
            "colorbar": {
             "outlinewidth": 0,
             "ticks": ""
            },
            "colorscale": [
             [
              0,
              "#0d0887"
             ],
             [
              0.1111111111111111,
              "#46039f"
             ],
             [
              0.2222222222222222,
              "#7201a8"
             ],
             [
              0.3333333333333333,
              "#9c179e"
             ],
             [
              0.4444444444444444,
              "#bd3786"
             ],
             [
              0.5555555555555556,
              "#d8576b"
             ],
             [
              0.6666666666666666,
              "#ed7953"
             ],
             [
              0.7777777777777778,
              "#fb9f3a"
             ],
             [
              0.8888888888888888,
              "#fdca26"
             ],
             [
              1,
              "#f0f921"
             ]
            ],
            "type": "surface"
           }
          ],
          "table": [
           {
            "cells": {
             "fill": {
              "color": "#EBF0F8"
             },
             "line": {
              "color": "white"
             }
            },
            "header": {
             "fill": {
              "color": "#C8D4E3"
             },
             "line": {
              "color": "white"
             }
            },
            "type": "table"
           }
          ]
         },
         "layout": {
          "annotationdefaults": {
           "arrowcolor": "#2a3f5f",
           "arrowhead": 0,
           "arrowwidth": 1
          },
          "autotypenumbers": "strict",
          "coloraxis": {
           "colorbar": {
            "outlinewidth": 0,
            "ticks": ""
           }
          },
          "colorscale": {
           "diverging": [
            [
             0,
             "#8e0152"
            ],
            [
             0.1,
             "#c51b7d"
            ],
            [
             0.2,
             "#de77ae"
            ],
            [
             0.3,
             "#f1b6da"
            ],
            [
             0.4,
             "#fde0ef"
            ],
            [
             0.5,
             "#f7f7f7"
            ],
            [
             0.6,
             "#e6f5d0"
            ],
            [
             0.7,
             "#b8e186"
            ],
            [
             0.8,
             "#7fbc41"
            ],
            [
             0.9,
             "#4d9221"
            ],
            [
             1,
             "#276419"
            ]
           ],
           "sequential": [
            [
             0,
             "#0d0887"
            ],
            [
             0.1111111111111111,
             "#46039f"
            ],
            [
             0.2222222222222222,
             "#7201a8"
            ],
            [
             0.3333333333333333,
             "#9c179e"
            ],
            [
             0.4444444444444444,
             "#bd3786"
            ],
            [
             0.5555555555555556,
             "#d8576b"
            ],
            [
             0.6666666666666666,
             "#ed7953"
            ],
            [
             0.7777777777777778,
             "#fb9f3a"
            ],
            [
             0.8888888888888888,
             "#fdca26"
            ],
            [
             1,
             "#f0f921"
            ]
           ],
           "sequentialminus": [
            [
             0,
             "#0d0887"
            ],
            [
             0.1111111111111111,
             "#46039f"
            ],
            [
             0.2222222222222222,
             "#7201a8"
            ],
            [
             0.3333333333333333,
             "#9c179e"
            ],
            [
             0.4444444444444444,
             "#bd3786"
            ],
            [
             0.5555555555555556,
             "#d8576b"
            ],
            [
             0.6666666666666666,
             "#ed7953"
            ],
            [
             0.7777777777777778,
             "#fb9f3a"
            ],
            [
             0.8888888888888888,
             "#fdca26"
            ],
            [
             1,
             "#f0f921"
            ]
           ]
          },
          "colorway": [
           "#636efa",
           "#EF553B",
           "#00cc96",
           "#ab63fa",
           "#FFA15A",
           "#19d3f3",
           "#FF6692",
           "#B6E880",
           "#FF97FF",
           "#FECB52"
          ],
          "font": {
           "color": "#2a3f5f"
          },
          "geo": {
           "bgcolor": "white",
           "lakecolor": "white",
           "landcolor": "#E5ECF6",
           "showlakes": true,
           "showland": true,
           "subunitcolor": "white"
          },
          "hoverlabel": {
           "align": "left"
          },
          "hovermode": "closest",
          "mapbox": {
           "style": "light"
          },
          "paper_bgcolor": "white",
          "plot_bgcolor": "#E5ECF6",
          "polar": {
           "angularaxis": {
            "gridcolor": "white",
            "linecolor": "white",
            "ticks": ""
           },
           "bgcolor": "#E5ECF6",
           "radialaxis": {
            "gridcolor": "white",
            "linecolor": "white",
            "ticks": ""
           }
          },
          "scene": {
           "xaxis": {
            "backgroundcolor": "#E5ECF6",
            "gridcolor": "white",
            "gridwidth": 2,
            "linecolor": "white",
            "showbackground": true,
            "ticks": "",
            "zerolinecolor": "white"
           },
           "yaxis": {
            "backgroundcolor": "#E5ECF6",
            "gridcolor": "white",
            "gridwidth": 2,
            "linecolor": "white",
            "showbackground": true,
            "ticks": "",
            "zerolinecolor": "white"
           },
           "zaxis": {
            "backgroundcolor": "#E5ECF6",
            "gridcolor": "white",
            "gridwidth": 2,
            "linecolor": "white",
            "showbackground": true,
            "ticks": "",
            "zerolinecolor": "white"
           }
          },
          "shapedefaults": {
           "line": {
            "color": "#2a3f5f"
           }
          },
          "ternary": {
           "aaxis": {
            "gridcolor": "white",
            "linecolor": "white",
            "ticks": ""
           },
           "baxis": {
            "gridcolor": "white",
            "linecolor": "white",
            "ticks": ""
           },
           "bgcolor": "#E5ECF6",
           "caxis": {
            "gridcolor": "white",
            "linecolor": "white",
            "ticks": ""
           }
          },
          "title": {
           "x": 0.05
          },
          "xaxis": {
           "automargin": true,
           "gridcolor": "white",
           "linecolor": "white",
           "ticks": "",
           "title": {
            "standoff": 15
           },
           "zerolinecolor": "white",
           "zerolinewidth": 2
          },
          "yaxis": {
           "automargin": true,
           "gridcolor": "white",
           "linecolor": "white",
           "ticks": "",
           "title": {
            "standoff": 15
           },
           "zerolinecolor": "white",
           "zerolinewidth": 2
          }
         }
        },
        "width": 1400,
        "xaxis": {
         "anchor": "y",
         "domain": [
          0,
          1
         ],
         "matches": "x"
        },
        "xaxis2": {
         "anchor": "y2",
         "domain": [
          0,
          1
         ],
         "matches": "x"
        },
        "yaxis": {
         "anchor": "x",
         "domain": [
          0.575,
          1
         ]
        },
        "yaxis2": {
         "anchor": "x2",
         "domain": [
          0,
          0.425
         ]
        }
       }
      }
     },
     "metadata": {},
     "output_type": "display_data"
    }
   ],
   "source": [
    "decomp_loglks2 = decomp_loglks\n",
    "feature = 'Vibr. fan free'\n",
    "fig = make_subplots(rows=2, cols=1)\n",
    "\n",
    "fig.append_trace(go.Scatter(\n",
    "    mode='lines',\n",
    "    x=decomp_loglks2.index[dbn_size:],\n",
    "    y=decomp_loglks2.sum(axis=1),\n",
    "    marker=dict(\n",
    "        line=dict(\n",
    "            width=.01\n",
    "        )\n",
    "    ),\n",
    "    name='Overall log-likelihood'\n",
    "), row=1, col=1)\n",
    "\n",
    "fig.append_trace(go.Scatter(\n",
    "    mode='lines',\n",
    "    x=decomp_loglks2.index[dbn_size:],\n",
    "    y=decomp_loglks2[feature],\n",
    "    marker=dict(\n",
    "        line=dict(\n",
    "            width=.01\n",
    "        )\n",
    "    ),\n",
    "    name=f'{feature} log-likelihood'\n",
    "), row=2, col=1)\n",
    "\n",
    "fig.update_xaxes(matches='x')\n",
    "fig.update_layout(height=600, width=1400, showlegend=True)\n",
    "fig.show()"
   ]
  }
 ],
 "metadata": {
  "kernelspec": {
   "display_name": "tfm",
   "language": "python",
   "name": "python3"
  },
  "language_info": {
   "codemirror_mode": {
    "name": "ipython",
    "version": 3
   },
   "file_extension": ".py",
   "mimetype": "text/x-python",
   "name": "python",
   "nbconvert_exporter": "python",
   "pygments_lexer": "ipython3",
   "version": "3.10.13"
  }
 },
 "nbformat": 4,
 "nbformat_minor": 5
}
